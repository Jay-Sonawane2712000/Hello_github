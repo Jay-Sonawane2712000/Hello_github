{
 "cells": [
  {
   "cell_type": "code",
   "execution_count": null,
   "id": "c7a38aae-9343-4a12-bb8c-8ac2e4dfb3c8",
   "metadata": {},
   "outputs": [],
   "source": []
  }
 ],
 "metadata": {
  "kernelspec": {
   "display_name": "",
   "name": ""
  },
  "language_info": {
   "name": ""
  }
 },
 "nbformat": 4,
 "nbformat_minor": 5
}
